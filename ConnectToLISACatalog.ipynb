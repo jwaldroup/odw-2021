{
  "nbformat": 4,
  "nbformat_minor": 0,
  "metadata": {
    "colab": {
      "name": "ConnectToLISACatalog.ipynb",
      "provenance": [],
      "collapsed_sections": [],
      "include_colab_link": true
    },
    "kernelspec": {
      "name": "python3",
      "display_name": "Python 3"
    },
    "language_info": {
      "name": "python"
    }
  },
  "cells": [
    {
      "cell_type": "markdown",
      "metadata": {
        "id": "view-in-github",
        "colab_type": "text"
      },
      "source": [
        "<a href=\"https://colab.research.google.com/github/jwaldroup/odw-2021/blob/master/ConnectToLISACatalog.ipynb\" target=\"_parent\"><img src=\"https://colab.research.google.com/assets/colab-badge.svg\" alt=\"Open In Colab\"/></a>"
      ]
    },
    {
      "cell_type": "markdown",
      "metadata": {
        "id": "vMqsC6CiaEPo"
      },
      "source": [
        "# A demo for using google colab with `lisacattools`\n",
        "\n",
        "This demo shows how to \n",
        "\n",
        "1.   Install `lisacattools`\n",
        "2.   Install the respective catalogs\n",
        "3.   Run a short example\n",
        "\n",
        "using the Google colab environment.\n",
        "\n",
        "## Why this demo?\n",
        "This demo is meant for users who do not have accsss to local resources or want to use Google colab for the easy access to GPU or TensorFlow resources or just want to give the colab environment a test drive.\n",
        "\n",
        "### Drawbacks of using colab\n",
        "\n",
        "Above all, keep in mind that Google colab runs inside a virtual machine (VM) on Google infrastructure. Due to the nature of a VM, the initial steps of installing `lisacattools` and the installation of the catalogs have to be repeated everytime the VM restarts.\n",
        "\n",
        "Also, you have to make sure that the modules you want to use are installed in the VM. This can be easily done via `pip`. \n",
        "\n",
        "## Install `lisacattools`\n",
        "This is a good example of how to use `pip` to install python packages unknown to colab. Use `-q` to stop the process from chattering."
      ]
    },
    {
      "cell_type": "code",
      "metadata": {
        "id": "HYmLIqUsb4XT",
        "colab": {
          "base_uri": "https://localhost:8080/"
        },
        "outputId": "cfbd690d-44c2-440f-c8d4-1b67e154fd47"
      },
      "source": [
        "!pip install lisacattools -q"
      ],
      "execution_count": null,
      "outputs": [
        {
          "output_type": "stream",
          "text": [
            "\u001b[K     |████████████████████████████████| 15.8MB 248kB/s \n",
            "\u001b[K     |████████████████████████████████| 19.3MB 146kB/s \n",
            "\u001b[K     |████████████████████████████████| 11.6MB 42.0MB/s \n",
            "\u001b[K     |████████████████████████████████| 9.7MB 28.8MB/s \n",
            "\u001b[K     |████████████████████████████████| 4.3MB 28.1MB/s \n",
            "\u001b[K     |████████████████████████████████| 9.9MB 13.1MB/s \n",
            "\u001b[K     |████████████████████████████████| 143kB 32.2MB/s \n",
            "\u001b[?25h  Installing build dependencies ... \u001b[?25l\u001b[?25hdone\n",
            "  Getting requirements to build wheel ... \u001b[?25l\u001b[?25hdone\n",
            "    Preparing wheel metadata ... \u001b[?25l\u001b[?25hdone\n",
            "\u001b[K     |████████████████████████████████| 2.3MB 25.9MB/s \n",
            "\u001b[K     |████████████████████████████████| 2.3MB 25.8MB/s \n",
            "\u001b[K     |████████████████████████████████| 1.3MB 26.8MB/s \n",
            "\u001b[K     |████████████████████████████████| 215kB 45.8MB/s \n",
            "\u001b[K     |████████████████████████████████| 27.3MB 111kB/s \n",
            "\u001b[K     |████████████████████████████████| 61kB 6.0MB/s \n",
            "\u001b[K     |████████████████████████████████| 1.6MB 26.3MB/s \n",
            "\u001b[K     |████████████████████████████████| 2.6MB 33.3MB/s \n",
            "\u001b[K     |████████████████████████████████| 61kB 5.9MB/s \n",
            "\u001b[?25h  Building wheel for astroplan (PEP 517) ... \u001b[?25l\u001b[?25hdone\n",
            "  Building wheel for ptemcee (setup.py) ... \u001b[?25l\u001b[?25hdone\n",
            "  Building wheel for python-ligo-lw (setup.py) ... \u001b[?25l\u001b[?25hdone\n",
            "  Building wheel for ligo-gracedb (setup.py) ... \u001b[?25l\u001b[?25hdone\n",
            "  Building wheel for ligo-segments (setup.py) ... \u001b[?25l\u001b[?25hdone\n",
            "  Building wheel for lscsoft-glue (setup.py) ... \u001b[?25l\u001b[?25hdone\n",
            "\u001b[31mERROR: google-colab 1.0.0 has requirement pandas~=1.1.0; python_version >= \"3.0\", but you'll have pandas 1.2.2 which is incompatible.\u001b[0m\n",
            "\u001b[31mERROR: albumentations 0.1.12 has requirement imgaug<0.2.7,>=0.2.5, but you'll have imgaug 0.2.9 which is incompatible.\u001b[0m\n"
          ],
          "name": "stdout"
        }
      ]
    },
    {
      "cell_type": "markdown",
      "metadata": {
        "id": "nQujuSz2c0b6"
      },
      "source": [
        "## Install the catalogs\n",
        "Using data stored on Googl Drive (your own or of somebody else) requires authentication. The next cell takes care of that."
      ]
    },
    {
      "cell_type": "code",
      "metadata": {
        "id": "gC-ORbirKzWt"
      },
      "source": [
        "# Import PyDrive and associated libraries.\n",
        "# This only needs to be done once per notebook.\n",
        "from pydrive.auth import GoogleAuth\n",
        "from pydrive.drive import GoogleDrive\n",
        "from google.colab import auth\n",
        "from oauth2client.client import GoogleCredentials\n",
        "\n",
        "# Authenticate and create the PyDrive client.\n",
        "# This only needs to be done once per notebook.\n",
        "auth.authenticate_user()\n",
        "gauth = GoogleAuth()\n",
        "gauth.credentials = GoogleCredentials.get_application_default()\n",
        "drive = GoogleDrive(gauth)\n",
        "\n"
      ],
      "execution_count": null,
      "outputs": []
    },
    {
      "cell_type": "markdown",
      "metadata": {
        "id": "Qt5UISFrZuhh"
      },
      "source": [
        "Downloading the two tar-files into the filesystem of the colab virtual machine. We use a copy of the original `data_download` script and simply execute that after download. This might take a while."
      ]
    },
    {
      "cell_type": "code",
      "metadata": {
        "id": "f47NPnotZtp-",
        "colab": {
          "base_uri": "https://localhost:8080/"
        },
        "outputId": "b3b2857e-9e42-4cc0-a1f6-c6868d79b407"
      },
      "source": [
        "!mkdir -p scripts && wget -q -O scripts/data_download.py https://raw.githubusercontent.com/tlittenberg/lisacattools/main/scripts/data_download.py\n",
        "!python scripts/data_download.py"
      ],
      "execution_count": null,
      "outputs": [
        {
          "output_type": "stream",
          "text": [
            "Downloading 1iL071Fi5MxHle0CLOqg3JkZIgjQF8EwF into tutorial/data/MBHDemo.tar... \n",
            "1.9 GiB Done.\n",
            "Downloading 14ZgAU_67ZzxTJyaScUH_i22nSkpNOp36 into tutorial/data/UCBDemo_06.tar... \n",
            "5.0 GiB Done.\n",
            "Downloading 1Rbx8PTLHCOHdakGok8DM2pVDzdPXsuUp into tutorial/data/UCBDemo_03.tar... \n",
            "1.2 GiB Done.\n"
          ],
          "name": "stdout"
        }
      ]
    },
    {
      "cell_type": "markdown",
      "metadata": {
        "id": "3A4f750AqHGU"
      },
      "source": [
        "## Run a short example\n",
        "\n",
        "Once you reach this stage, your environment as far as the installation of the catalogs is conceren is set up. \n",
        "\n",
        "As an example, we use an adaptation of [`plot_source_Mc_DL.py`](https://raw.githubusercontent.com/tlittenberg/lisacattools/main/docs/examples_ucb/plot_source_Mc_DL.py) that has been changed to read the catalogs from the VM file system. \n",
        "\n",
        "### Additional adjustments\n",
        "The `chainconsumer` packaage is not installed be default, so this is another call to `pip`. Also TeX does not come automatically installed - use `apt-get` to fix that."
      ]
    },
    {
      "cell_type": "code",
      "metadata": {
        "id": "Q6hQ9xSRINxm"
      },
      "source": [
        "!pip install chainconsumer -q \n",
        "!pip install matplotlib --upgrade -q"
      ],
      "execution_count": null,
      "outputs": []
    },
    {
      "cell_type": "code",
      "metadata": {
        "id": "hHvFZcMqkxtf"
      },
      "source": [
        "from chainconsumer import ChainConsumer\n",
        "from lisacattools.catalog import GWCatalog, GWCatalogs, GWCatalogType\n",
        "from lisacattools import get_DL, get_Mchirp\n",
        "import matplotlib.pyplot as plt"
      ],
      "execution_count": null,
      "outputs": []
    },
    {
      "cell_type": "code",
      "metadata": {
        "id": "QCrMmRKSIU0y"
      },
      "source": [
        "!apt-get -qq update\n",
        "!apt-get -qq install texlive-latex-extra texlive-fonts-recommended dvipng cm-super"
      ],
      "execution_count": null,
      "outputs": []
    },
    {
      "cell_type": "markdown",
      "metadata": {
        "id": "t8h0S_Gqk1hQ"
      },
      "source": [
        "Start by loading the main catalog files processed from GBMCMC outputs. Make sure that you set the catalog path to the directory we installed the catalogs in"
      ]
    },
    {
      "cell_type": "code",
      "metadata": {
        "id": "dTFZ6-_fk84z",
        "colab": {
          "base_uri": "https://localhost:8080/"
        },
        "outputId": "266fce87-adef-4e24-cdc7-6f2e0fcbe7c5"
      },
      "source": [
        "catPath = \"tutorial/data/ucb\"\n",
        "catalogs = GWCatalogs.create(GWCatalogType.UCB, catPath, \"cat15728640_v2.h5\")\n",
        "final_catalog = catalogs.get_last_catalog()\n",
        "detections_attr = final_catalog.get_attr_detections()\n",
        "detections = final_catalog.get_detections(detections_attr)"
      ],
      "execution_count": null,
      "outputs": [
        {
          "output_type": "stream",
          "text": [
            "INFO:numexpr.utils:NumExpr defaulting to 2 threads.\n"
          ],
          "name": "stderr"
        }
      ]
    },
    {
      "cell_type": "markdown",
      "metadata": {
        "id": "y6eUcPyJpcX3"
      },
      "source": [
        "Sort table by SNR and select highest SNR source"
      ]
    },
    {
      "cell_type": "code",
      "metadata": {
        "colab": {
          "base_uri": "https://localhost:8080/"
        },
        "id": "E5D_GjTmpYIB",
        "outputId": "7087263e-1279-4c6c-cd0f-dff86882ac5a"
      },
      "source": [
        "detections.sort_values(by=\"SNR\", ascending=False, inplace=True)\n",
        "sourceId = detections.index[0]\n",
        "samples = final_catalog.get_source_samples(sourceId)"
      ],
      "execution_count": null,
      "outputs": [
        {
          "output_type": "stream",
          "text": [
            "\u001b[0;32mInit the memory cache\u001b[0m\n",
            "(lisacattools.utils._read_chain_file:127) 2021-06-28 19:38:40,566 \u001b[0;32m\u001b[0;32mINFO\u001b[0m\u001b[0m utils newfunc \u001b[0;32m\u001b[0;32mInit the memory cache\u001b[0m\u001b[0m\n"
          ],
          "name": "stdout"
        },
        {
          "output_type": "stream",
          "text": [
            "\u001b[0;32m\u001b[0;32mINFO\u001b[0m\u001b[0m:lisacattools.utils._read_chain_file:\u001b[0;32m\u001b[0;32mInit the memory cache\u001b[0m\u001b[0m\n"
          ],
          "name": "stderr"
        },
        {
          "output_type": "stream",
          "text": [
            "\u001b[0;32mCache LDC0092117281-cat15728640_v2_chains_1100s.h5\u001b[0m\n",
            "(lisacattools.utils._read_chain_file:130) 2021-06-28 19:38:40,571 \u001b[0;32m\u001b[0;32mINFO\u001b[0m\u001b[0m utils newfunc \u001b[0;32m\u001b[0;32mCache LDC0092117281-cat15728640_v2_chains_1100s.h5\u001b[0m\u001b[0m\n"
          ],
          "name": "stdout"
        },
        {
          "output_type": "stream",
          "text": [
            "\u001b[0;32m\u001b[0;32mINFO\u001b[0m\u001b[0m:lisacattools.utils._read_chain_file:\u001b[0;32m\u001b[0;32mCache LDC0092117281-cat15728640_v2_chains_1100s.h5\u001b[0m\u001b[0m\n"
          ],
          "name": "stderr"
        }
      ]
    },
    {
      "cell_type": "markdown",
      "metadata": {
        "id": "swKQhcbVplib"
      },
      "source": [
        "Reject chain samples with negative fdot (enforce GR-driven prior)"
      ]
    },
    {
      "cell_type": "code",
      "metadata": {
        "id": "NOGQU0_YpgzZ"
      },
      "source": [
        "samples_GR = samples[(samples[\"Frequency Derivative\"] > 0)]"
      ],
      "execution_count": null,
      "outputs": []
    },
    {
      "cell_type": "markdown",
      "metadata": {
        "id": "3Zx8MBoKptl3"
      },
      "source": [
        "Add distance and chirpmass to samples"
      ]
    },
    {
      "cell_type": "code",
      "metadata": {
        "id": "WiO_9YGppnEm"
      },
      "source": [
        "get_DL(samples_GR)\n",
        "get_Mchirp(samples_GR)"
      ],
      "execution_count": null,
      "outputs": []
    },
    {
      "cell_type": "markdown",
      "metadata": {
        "id": "th-uDZttp496"
      },
      "source": [
        "Make a corner plot"
      ]
    },
    {
      "cell_type": "code",
      "metadata": {
        "id": "L5vxlmqpHc-p"
      },
      "source": [
        ""
      ],
      "execution_count": null,
      "outputs": []
    },
    {
      "cell_type": "code",
      "metadata": {
        "colab": {
          "base_uri": "https://localhost:8080/",
          "height": 368
        },
        "id": "74XZrUGZpu90",
        "outputId": "765c3132-7a16-4cb2-e9e1-2044bda8dbe1"
      },
      "source": [
        "parameters = [\"Chirp Mass\", \"Luminosity Distance\"]\n",
        "parameter_symbols = [r\"$\\mathcal{M}\\ [{\\rm M}_\\odot]$\", r\"$D_L\\ [{\\rm kpc}]$\"]\n",
        "\n",
        "df = samples_GR[parameters].values\n",
        "\n",
        "c = ChainConsumer().add_chain(df, parameters=parameter_symbols, cloud=True)\n",
        "c.configure(flip=False)\n",
        "fig = c.plotter.plot(figsize=1.5)\n",
        "plt.show()"
      ],
      "execution_count": null,
      "outputs": [
        {
          "output_type": "display_data",
          "data": {
            "image/png": "[encoded data removed]",
            "text/plain": [
              "<Figure size 324x324 with 4 Axes>"
            ]
          },
          "metadata": {
            "tags": [],
            "needs_background": "light"
          }
        }
      ]
    },
    {
      "cell_type": "code",
      "metadata": {
        "id": "1Zs3e-_LH7r6"
      },
      "source": [
        ""
      ],
      "execution_count": null,
      "outputs": []
    },
    {
      "cell_type": "code",
      "metadata": {
        "id": "544TRZCCp7xR"
      },
      "source": [
        ""
      ],
      "execution_count": null,
      "outputs": []
    }
  ]
}